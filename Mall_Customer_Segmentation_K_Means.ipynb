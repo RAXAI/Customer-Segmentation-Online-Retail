{
  "nbformat": 4,
  "nbformat_minor": 0,
  "metadata": {
    "colab": {
      "name": "Mall_Customer_Segmentation_K_Means.ipynb",
      "provenance": [],
      "collapsed_sections": []
    },
    "kernelspec": {
      "name": "python3",
      "display_name": "Python 3"
    },
    "language_info": {
      "name": "python"
    }
  },
  "cells": [
    {
      "cell_type": "code",
      "metadata": {
        "colab": {
          "base_uri": "https://localhost:8080/"
        },
        "id": "EQclfRCoCtb9",
        "outputId": "7f27fa8e-1dc1-45ee-adba-284251049794"
      },
      "source": [
        "from google.colab import drive\n",
        "\n",
        "drive.mount('/content/drive')"
      ],
      "execution_count": null,
      "outputs": [
        {
          "output_type": "stream",
          "text": [
            "Drive already mounted at /content/drive; to attempt to forcibly remount, call drive.mount(\"/content/drive\", force_remount=True).\n"
          ],
          "name": "stdout"
        }
      ]
    },
    {
      "cell_type": "code",
      "metadata": {
        "id": "YA-cL8GVDB4e"
      },
      "source": [
        "import pandas as pd\n",
        "import seaborn as sns\n",
        "import numpy as np \n",
        "import matplotlib.pyplot as plt\n",
        "import matplotlib.ticker as mtick\n",
        "import datetime as dt\n",
        "from sklearn.preprocessing import MinMaxScaler\n",
        "from sklearn.cluster import KMeans\n",
        "from yellowbrick.cluster import SilhouetteVisualizer\n",
        "from sklearn.metrics import silhouette_score\n"
      ],
      "execution_count": null,
      "outputs": []
    },
    {
      "cell_type": "code",
      "metadata": {
        "id": "On_qvLQiKoRc",
        "colab": {
          "base_uri": "https://localhost:8080/"
        },
        "outputId": "6f23e9e1-7b62-483f-b74b-bea91e2ee985"
      },
      "source": [
        "#loading the data\n",
        "print('Loading data')\n",
        "df = pd.read_csv('/content/drive/MyDrive/retail_clustering /OnlineRetail2.csv',parse_dates=['InvoiceDate'])\n",
        "print('Loading completed')"
      ],
      "execution_count": null,
      "outputs": [
        {
          "output_type": "stream",
          "text": [
            "Loading data\n",
            "Loading completed\n"
          ],
          "name": "stdout"
        }
      ]
    },
    {
      "cell_type": "code",
      "metadata": {
        "colab": {
          "base_uri": "https://localhost:8080/"
        },
        "id": "AB2_eX2L0Sa_",
        "outputId": "2e91d90a-acab-4375-ebfc-6213fa4ca41e"
      },
      "source": [
        "print('--- Dimensions of data --- ')\n",
        "print()\n",
        "print('Number of Records: ', df.shape[0])\n",
        "print('Number of Features: ', df.shape[1])\n",
        "print()"
      ],
      "execution_count": null,
      "outputs": [
        {
          "output_type": "stream",
          "text": [
            "--- Dimensions of data --- \n",
            "\n",
            "Number of Records:  541909\n",
            "Number of Features:  8\n",
            "\n"
          ],
          "name": "stdout"
        }
      ]
    },
    {
      "cell_type": "code",
      "metadata": {
        "colab": {
          "base_uri": "https://localhost:8080/",
          "height": 202
        },
        "id": "n29GW7R7Q-3n",
        "outputId": "a8ff11ab-684d-49b7-aee9-0dadf2210ed1"
      },
      "source": [
        "df.head()"
      ],
      "execution_count": null,
      "outputs": [
        {
          "output_type": "execute_result",
          "data": {
            "text/html": [
              "<div>\n",
              "<style scoped>\n",
              "    .dataframe tbody tr th:only-of-type {\n",
              "        vertical-align: middle;\n",
              "    }\n",
              "\n",
              "    .dataframe tbody tr th {\n",
              "        vertical-align: top;\n",
              "    }\n",
              "\n",
              "    .dataframe thead th {\n",
              "        text-align: right;\n",
              "    }\n",
              "</style>\n",
              "<table border=\"1\" class=\"dataframe\">\n",
              "  <thead>\n",
              "    <tr style=\"text-align: right;\">\n",
              "      <th></th>\n",
              "      <th>InvoiceNo</th>\n",
              "      <th>StockCode</th>\n",
              "      <th>Description</th>\n",
              "      <th>Quantity</th>\n",
              "      <th>InvoiceDate</th>\n",
              "      <th>UnitPrice</th>\n",
              "      <th>CustomerID</th>\n",
              "      <th>Country</th>\n",
              "    </tr>\n",
              "  </thead>\n",
              "  <tbody>\n",
              "    <tr>\n",
              "      <th>0</th>\n",
              "      <td>536365</td>\n",
              "      <td>85123A</td>\n",
              "      <td>WHITE HANGING HEART T-LIGHT HOLDER</td>\n",
              "      <td>6</td>\n",
              "      <td>2010-01-12 08:26:00</td>\n",
              "      <td>2.55</td>\n",
              "      <td>17850.0</td>\n",
              "      <td>United Kingdom</td>\n",
              "    </tr>\n",
              "    <tr>\n",
              "      <th>1</th>\n",
              "      <td>536365</td>\n",
              "      <td>71053</td>\n",
              "      <td>WHITE METAL LANTERN</td>\n",
              "      <td>6</td>\n",
              "      <td>2010-01-12 08:26:00</td>\n",
              "      <td>3.39</td>\n",
              "      <td>17850.0</td>\n",
              "      <td>United Kingdom</td>\n",
              "    </tr>\n",
              "    <tr>\n",
              "      <th>2</th>\n",
              "      <td>536365</td>\n",
              "      <td>84406B</td>\n",
              "      <td>CREAM CUPID HEARTS COAT HANGER</td>\n",
              "      <td>8</td>\n",
              "      <td>2010-01-12 08:26:00</td>\n",
              "      <td>2.75</td>\n",
              "      <td>17850.0</td>\n",
              "      <td>United Kingdom</td>\n",
              "    </tr>\n",
              "    <tr>\n",
              "      <th>3</th>\n",
              "      <td>536365</td>\n",
              "      <td>84029G</td>\n",
              "      <td>KNITTED UNION FLAG HOT WATER BOTTLE</td>\n",
              "      <td>6</td>\n",
              "      <td>2010-01-12 08:26:00</td>\n",
              "      <td>3.39</td>\n",
              "      <td>17850.0</td>\n",
              "      <td>United Kingdom</td>\n",
              "    </tr>\n",
              "    <tr>\n",
              "      <th>4</th>\n",
              "      <td>536365</td>\n",
              "      <td>84029E</td>\n",
              "      <td>RED WOOLLY HOTTIE WHITE HEART.</td>\n",
              "      <td>6</td>\n",
              "      <td>2010-01-12 08:26:00</td>\n",
              "      <td>3.39</td>\n",
              "      <td>17850.0</td>\n",
              "      <td>United Kingdom</td>\n",
              "    </tr>\n",
              "  </tbody>\n",
              "</table>\n",
              "</div>"
            ],
            "text/plain": [
              "  InvoiceNo StockCode  ... CustomerID         Country\n",
              "0    536365    85123A  ...    17850.0  United Kingdom\n",
              "1    536365     71053  ...    17850.0  United Kingdom\n",
              "2    536365    84406B  ...    17850.0  United Kingdom\n",
              "3    536365    84029G  ...    17850.0  United Kingdom\n",
              "4    536365    84029E  ...    17850.0  United Kingdom\n",
              "\n",
              "[5 rows x 8 columns]"
            ]
          },
          "metadata": {
            "tags": []
          },
          "execution_count": 209
        }
      ]
    },
    {
      "cell_type": "code",
      "metadata": {
        "colab": {
          "base_uri": "https://localhost:8080/"
        },
        "id": "YyW5ZopyO8xO",
        "outputId": "baacd624-cd8b-4e38-a78f-bb8919d3b8d6"
      },
      "source": [
        "# data consistency checks and cleaning\n",
        "\n",
        "# number of transations with  no unit price\n",
        "no_price = df[df['UnitPrice'] <= 0].shape[0]\n",
        "print('number of transactions with no unit price',no_price)\n",
        "df = df[df['UnitPrice'] > 0]\n",
        "\n",
        "# number of transations with 0 or negative quantity \n",
        "no_price = df[df['Quantity'] <= 0].shape[0]\n",
        "print('number of transactions with a 0 or negative quantity',no_price)\n",
        "df = df[df['Quantity'] > 0]\n",
        "\n",
        "\n",
        "\n"
      ],
      "execution_count": null,
      "outputs": [
        {
          "output_type": "stream",
          "text": [
            "number of transactions with no unit price 2517\n",
            "number of transactions with a 0 or negative quantity 9288\n"
          ],
          "name": "stdout"
        }
      ]
    },
    {
      "cell_type": "code",
      "metadata": {
        "id": "nuM5nxUctxnm"
      },
      "source": [
        "# creating sales amount column \n",
        "\n",
        "df['Sales Amount'] = df['Quantity'] * df['UnitPrice']\n",
        "\n"
      ],
      "execution_count": null,
      "outputs": []
    },
    {
      "cell_type": "code",
      "metadata": {
        "colab": {
          "base_uri": "https://localhost:8080/",
          "height": 415
        },
        "id": "BvNla00fqoyC",
        "outputId": "2ba54b48-f90b-4790-fa30-c2d7a98d0c71"
      },
      "source": [
        "df"
      ],
      "execution_count": null,
      "outputs": [
        {
          "output_type": "execute_result",
          "data": {
            "text/html": [
              "<div>\n",
              "<style scoped>\n",
              "    .dataframe tbody tr th:only-of-type {\n",
              "        vertical-align: middle;\n",
              "    }\n",
              "\n",
              "    .dataframe tbody tr th {\n",
              "        vertical-align: top;\n",
              "    }\n",
              "\n",
              "    .dataframe thead th {\n",
              "        text-align: right;\n",
              "    }\n",
              "</style>\n",
              "<table border=\"1\" class=\"dataframe\">\n",
              "  <thead>\n",
              "    <tr style=\"text-align: right;\">\n",
              "      <th></th>\n",
              "      <th>InvoiceNo</th>\n",
              "      <th>StockCode</th>\n",
              "      <th>Description</th>\n",
              "      <th>Quantity</th>\n",
              "      <th>InvoiceDate</th>\n",
              "      <th>UnitPrice</th>\n",
              "      <th>CustomerID</th>\n",
              "      <th>Country</th>\n",
              "      <th>Sales Amount</th>\n",
              "    </tr>\n",
              "  </thead>\n",
              "  <tbody>\n",
              "    <tr>\n",
              "      <th>0</th>\n",
              "      <td>536365</td>\n",
              "      <td>85123A</td>\n",
              "      <td>WHITE HANGING HEART T-LIGHT HOLDER</td>\n",
              "      <td>6</td>\n",
              "      <td>2010-01-12 08:26:00</td>\n",
              "      <td>2.55</td>\n",
              "      <td>17850.0</td>\n",
              "      <td>United Kingdom</td>\n",
              "      <td>15.30</td>\n",
              "    </tr>\n",
              "    <tr>\n",
              "      <th>1</th>\n",
              "      <td>536365</td>\n",
              "      <td>71053</td>\n",
              "      <td>WHITE METAL LANTERN</td>\n",
              "      <td>6</td>\n",
              "      <td>2010-01-12 08:26:00</td>\n",
              "      <td>3.39</td>\n",
              "      <td>17850.0</td>\n",
              "      <td>United Kingdom</td>\n",
              "      <td>20.34</td>\n",
              "    </tr>\n",
              "    <tr>\n",
              "      <th>2</th>\n",
              "      <td>536365</td>\n",
              "      <td>84406B</td>\n",
              "      <td>CREAM CUPID HEARTS COAT HANGER</td>\n",
              "      <td>8</td>\n",
              "      <td>2010-01-12 08:26:00</td>\n",
              "      <td>2.75</td>\n",
              "      <td>17850.0</td>\n",
              "      <td>United Kingdom</td>\n",
              "      <td>22.00</td>\n",
              "    </tr>\n",
              "    <tr>\n",
              "      <th>3</th>\n",
              "      <td>536365</td>\n",
              "      <td>84029G</td>\n",
              "      <td>KNITTED UNION FLAG HOT WATER BOTTLE</td>\n",
              "      <td>6</td>\n",
              "      <td>2010-01-12 08:26:00</td>\n",
              "      <td>3.39</td>\n",
              "      <td>17850.0</td>\n",
              "      <td>United Kingdom</td>\n",
              "      <td>20.34</td>\n",
              "    </tr>\n",
              "    <tr>\n",
              "      <th>4</th>\n",
              "      <td>536365</td>\n",
              "      <td>84029E</td>\n",
              "      <td>RED WOOLLY HOTTIE WHITE HEART.</td>\n",
              "      <td>6</td>\n",
              "      <td>2010-01-12 08:26:00</td>\n",
              "      <td>3.39</td>\n",
              "      <td>17850.0</td>\n",
              "      <td>United Kingdom</td>\n",
              "      <td>20.34</td>\n",
              "    </tr>\n",
              "    <tr>\n",
              "      <th>...</th>\n",
              "      <td>...</td>\n",
              "      <td>...</td>\n",
              "      <td>...</td>\n",
              "      <td>...</td>\n",
              "      <td>...</td>\n",
              "      <td>...</td>\n",
              "      <td>...</td>\n",
              "      <td>...</td>\n",
              "      <td>...</td>\n",
              "    </tr>\n",
              "    <tr>\n",
              "      <th>541904</th>\n",
              "      <td>581587</td>\n",
              "      <td>22613</td>\n",
              "      <td>PACK OF 20 SPACEBOY NAPKINS</td>\n",
              "      <td>12</td>\n",
              "      <td>2011-09-12 12:50:00</td>\n",
              "      <td>0.85</td>\n",
              "      <td>12680.0</td>\n",
              "      <td>France</td>\n",
              "      <td>10.20</td>\n",
              "    </tr>\n",
              "    <tr>\n",
              "      <th>541905</th>\n",
              "      <td>581587</td>\n",
              "      <td>22899</td>\n",
              "      <td>CHILDREN'S APRON DOLLY GIRL</td>\n",
              "      <td>6</td>\n",
              "      <td>2011-09-12 12:50:00</td>\n",
              "      <td>2.10</td>\n",
              "      <td>12680.0</td>\n",
              "      <td>France</td>\n",
              "      <td>12.60</td>\n",
              "    </tr>\n",
              "    <tr>\n",
              "      <th>541906</th>\n",
              "      <td>581587</td>\n",
              "      <td>23254</td>\n",
              "      <td>CHILDRENS CUTLERY DOLLY GIRL</td>\n",
              "      <td>4</td>\n",
              "      <td>2011-09-12 12:50:00</td>\n",
              "      <td>4.15</td>\n",
              "      <td>12680.0</td>\n",
              "      <td>France</td>\n",
              "      <td>16.60</td>\n",
              "    </tr>\n",
              "    <tr>\n",
              "      <th>541907</th>\n",
              "      <td>581587</td>\n",
              "      <td>23255</td>\n",
              "      <td>CHILDRENS CUTLERY CIRCUS PARADE</td>\n",
              "      <td>4</td>\n",
              "      <td>2011-09-12 12:50:00</td>\n",
              "      <td>4.15</td>\n",
              "      <td>12680.0</td>\n",
              "      <td>France</td>\n",
              "      <td>16.60</td>\n",
              "    </tr>\n",
              "    <tr>\n",
              "      <th>541908</th>\n",
              "      <td>581587</td>\n",
              "      <td>22138</td>\n",
              "      <td>BAKING SET 9 PIECE RETROSPOT</td>\n",
              "      <td>3</td>\n",
              "      <td>2011-09-12 12:50:00</td>\n",
              "      <td>4.95</td>\n",
              "      <td>12680.0</td>\n",
              "      <td>France</td>\n",
              "      <td>14.85</td>\n",
              "    </tr>\n",
              "  </tbody>\n",
              "</table>\n",
              "<p>530104 rows × 9 columns</p>\n",
              "</div>"
            ],
            "text/plain": [
              "       InvoiceNo StockCode  ...         Country  Sales Amount\n",
              "0         536365    85123A  ...  United Kingdom         15.30\n",
              "1         536365     71053  ...  United Kingdom         20.34\n",
              "2         536365    84406B  ...  United Kingdom         22.00\n",
              "3         536365    84029G  ...  United Kingdom         20.34\n",
              "4         536365    84029E  ...  United Kingdom         20.34\n",
              "...          ...       ...  ...             ...           ...\n",
              "541904    581587     22613  ...          France         10.20\n",
              "541905    581587     22899  ...          France         12.60\n",
              "541906    581587     23254  ...          France         16.60\n",
              "541907    581587     23255  ...          France         16.60\n",
              "541908    581587     22138  ...          France         14.85\n",
              "\n",
              "[530104 rows x 9 columns]"
            ]
          },
          "metadata": {
            "tags": []
          },
          "execution_count": 212
        }
      ]
    },
    {
      "cell_type": "code",
      "metadata": {
        "id": "5azuQWmZTCyO"
      },
      "source": [
        "# Creating RFM Table\n",
        "\n",
        "end_date = max(df['InvoiceDate'])+ dt.timedelta(days=1)\n",
        "\n",
        "rfm_df = df.groupby('CustomerID').agg({'InvoiceDate': lambda x: (end_date-max(x)).days,\n",
        "                                       'InvoiceNo':'count',\n",
        "                                       'Sales Amount':'sum'})\n",
        "\n",
        "rfm_df.columns = ['Recency','Frequency','Monetary']\n",
        "\n",
        "\n"
      ],
      "execution_count": null,
      "outputs": []
    },
    {
      "cell_type": "code",
      "metadata": {
        "colab": {
          "base_uri": "https://localhost:8080/",
          "height": 233
        },
        "id": "kQ-KBh3HyLcB",
        "outputId": "b43dc83e-169a-4705-fd77-a208993c8632"
      },
      "source": [
        "rfm_df.head()                                                                                                                                                                                                                                                                                                                                                                                                                                                                                                                                                                                                                                                                                                                                                                                                                                                                                                                                                                                                                                                                                                                                                                                                                                                                                                                                                                                                                                                                                                                                                                                                                                                                                                                                                                                                                                                                                                                                                                                                                                                                                                                                                                                                                                                                                                                                                                                                                                                                                                                                                                                                                                                                                                                                                                                                                                                                                                                                                                                                                                                                                                                                                                                                                                                                                                                                                                                                                                                                                                                                                                                                                                                                                                                                                                                                                                                                                                                                                                                                                                                                                                                                                                                                                                                                                                                                                                                                                                                                                                                                                                                                                                                                                                                                                                                                                                                                                                                                                                                                                                                                                                                                                                                                                                                                                                                                                                                                          "
      ],
      "execution_count": null,
      "outputs": [
        {
          "output_type": "execute_result",
          "data": {
            "text/html": [
              "<div>\n",
              "<style scoped>\n",
              "    .dataframe tbody tr th:only-of-type {\n",
              "        vertical-align: middle;\n",
              "    }\n",
              "\n",
              "    .dataframe tbody tr th {\n",
              "        vertical-align: top;\n",
              "    }\n",
              "\n",
              "    .dataframe thead th {\n",
              "        text-align: right;\n",
              "    }\n",
              "</style>\n",
              "<table border=\"1\" class=\"dataframe\">\n",
              "  <thead>\n",
              "    <tr style=\"text-align: right;\">\n",
              "      <th></th>\n",
              "      <th>Recency</th>\n",
              "      <th>Frequency</th>\n",
              "      <th>Monetary</th>\n",
              "    </tr>\n",
              "    <tr>\n",
              "      <th>CustomerID</th>\n",
              "      <th></th>\n",
              "      <th></th>\n",
              "      <th></th>\n",
              "    </tr>\n",
              "  </thead>\n",
              "  <tbody>\n",
              "    <tr>\n",
              "      <th>12346.0</th>\n",
              "      <td>327</td>\n",
              "      <td>1</td>\n",
              "      <td>77183.60</td>\n",
              "    </tr>\n",
              "    <tr>\n",
              "      <th>12347.0</th>\n",
              "      <td>41</td>\n",
              "      <td>182</td>\n",
              "      <td>4310.00</td>\n",
              "    </tr>\n",
              "    <tr>\n",
              "      <th>12348.0</th>\n",
              "      <td>77</td>\n",
              "      <td>31</td>\n",
              "      <td>1797.24</td>\n",
              "    </tr>\n",
              "    <tr>\n",
              "      <th>12349.0</th>\n",
              "      <td>20</td>\n",
              "      <td>73</td>\n",
              "      <td>1757.55</td>\n",
              "    </tr>\n",
              "    <tr>\n",
              "      <th>12350.0</th>\n",
              "      <td>312</td>\n",
              "      <td>17</td>\n",
              "      <td>334.40</td>\n",
              "    </tr>\n",
              "  </tbody>\n",
              "</table>\n",
              "</div>"
            ],
            "text/plain": [
              "            Recency  Frequency  Monetary\n",
              "CustomerID                              \n",
              "12346.0         327          1  77183.60\n",
              "12347.0          41        182   4310.00\n",
              "12348.0          77         31   1797.24\n",
              "12349.0          20         73   1757.55\n",
              "12350.0         312         17    334.40"
            ]
          },
          "metadata": {
            "tags": []
          },
          "execution_count": 214
        }
      ]
    },
    {
      "cell_type": "code",
      "metadata": {
        "colab": {
          "base_uri": "https://localhost:8080/",
          "height": 294
        },
        "id": "WkYQkAdUG5mt",
        "outputId": "c524a154-fe1c-41a9-b875-74fbd79bbbd0"
      },
      "source": [
        "rfm_df.describe()"
      ],
      "execution_count": null,
      "outputs": [
        {
          "output_type": "execute_result",
          "data": {
            "text/html": [
              "<div>\n",
              "<style scoped>\n",
              "    .dataframe tbody tr th:only-of-type {\n",
              "        vertical-align: middle;\n",
              "    }\n",
              "\n",
              "    .dataframe tbody tr th {\n",
              "        vertical-align: top;\n",
              "    }\n",
              "\n",
              "    .dataframe thead th {\n",
              "        text-align: right;\n",
              "    }\n",
              "</style>\n",
              "<table border=\"1\" class=\"dataframe\">\n",
              "  <thead>\n",
              "    <tr style=\"text-align: right;\">\n",
              "      <th></th>\n",
              "      <th>Recency</th>\n",
              "      <th>Frequency</th>\n",
              "      <th>Monetary</th>\n",
              "    </tr>\n",
              "  </thead>\n",
              "  <tbody>\n",
              "    <tr>\n",
              "      <th>count</th>\n",
              "      <td>4338.000000</td>\n",
              "      <td>4338.000000</td>\n",
              "      <td>4338.000000</td>\n",
              "    </tr>\n",
              "    <tr>\n",
              "      <th>mean</th>\n",
              "      <td>106.470954</td>\n",
              "      <td>91.720609</td>\n",
              "      <td>2054.266460</td>\n",
              "    </tr>\n",
              "    <tr>\n",
              "      <th>std</th>\n",
              "      <td>115.082161</td>\n",
              "      <td>228.785094</td>\n",
              "      <td>8989.230441</td>\n",
              "    </tr>\n",
              "    <tr>\n",
              "      <th>min</th>\n",
              "      <td>1.000000</td>\n",
              "      <td>1.000000</td>\n",
              "      <td>3.750000</td>\n",
              "    </tr>\n",
              "    <tr>\n",
              "      <th>25%</th>\n",
              "      <td>23.000000</td>\n",
              "      <td>17.000000</td>\n",
              "      <td>307.415000</td>\n",
              "    </tr>\n",
              "    <tr>\n",
              "      <th>50%</th>\n",
              "      <td>62.000000</td>\n",
              "      <td>41.000000</td>\n",
              "      <td>674.485000</td>\n",
              "    </tr>\n",
              "    <tr>\n",
              "      <th>75%</th>\n",
              "      <td>162.750000</td>\n",
              "      <td>100.000000</td>\n",
              "      <td>1661.740000</td>\n",
              "    </tr>\n",
              "    <tr>\n",
              "      <th>max</th>\n",
              "      <td>698.000000</td>\n",
              "      <td>7847.000000</td>\n",
              "      <td>280206.020000</td>\n",
              "    </tr>\n",
              "  </tbody>\n",
              "</table>\n",
              "</div>"
            ],
            "text/plain": [
              "           Recency    Frequency       Monetary\n",
              "count  4338.000000  4338.000000    4338.000000\n",
              "mean    106.470954    91.720609    2054.266460\n",
              "std     115.082161   228.785094    8989.230441\n",
              "min       1.000000     1.000000       3.750000\n",
              "25%      23.000000    17.000000     307.415000\n",
              "50%      62.000000    41.000000     674.485000\n",
              "75%     162.750000   100.000000    1661.740000\n",
              "max     698.000000  7847.000000  280206.020000"
            ]
          },
          "metadata": {
            "tags": []
          },
          "execution_count": 215
        }
      ]
    },
    {
      "cell_type": "code",
      "metadata": {
        "colab": {
          "base_uri": "https://localhost:8080/",
          "height": 353
        },
        "id": "V9mnbovJu_5-",
        "outputId": "b432ac6b-60bf-4c9a-cbe5-0900eb035507"
      },
      "source": [
        "fig, axes = plt.subplots(1,3,figsize=(30,5))\n",
        "\n",
        "for i,feature in enumerate(list(rfm_df.columns)):\n",
        "  sns.distplot(rfm_df[feature],ax=axes[i])"
      ],
      "execution_count": null,
      "outputs": [
        {
          "output_type": "stream",
          "text": [
            "/usr/local/lib/python3.7/dist-packages/seaborn/distributions.py:2557: FutureWarning: `distplot` is a deprecated function and will be removed in a future version. Please adapt your code to use either `displot` (a figure-level function with similar flexibility) or `histplot` (an axes-level function for histograms).\n",
            "  warnings.warn(msg, FutureWarning)\n",
            "/usr/local/lib/python3.7/dist-packages/seaborn/distributions.py:2557: FutureWarning: `distplot` is a deprecated function and will be removed in a future version. Please adapt your code to use either `displot` (a figure-level function with similar flexibility) or `histplot` (an axes-level function for histograms).\n",
            "  warnings.warn(msg, FutureWarning)\n",
            "/usr/local/lib/python3.7/dist-packages/seaborn/distributions.py:2557: FutureWarning: `distplot` is a deprecated function and will be removed in a future version. Please adapt your code to use either `displot` (a figure-level function with similar flexibility) or `histplot` (an axes-level function for histograms).\n",
            "  warnings.warn(msg, FutureWarning)\n"
          ],
          "name": "stderr"
        },
        {
          "output_type": "display_data",
          "data": {
            "image/png": "[encoded data removed]",
            "text/plain": [
              "<Figure size 2160x360 with 3 Axes>"
            ]
          },
          "metadata": {
            "tags": []
          }
        }
      ]
    },
    {
      "cell_type": "code",
      "metadata": {
        "id": "59dkc8raEH4P"
      },
      "source": [
        "# removing outliers using the 1.5 IQR method.\n",
        "\n",
        "def remove_outliers(df,field):\n",
        "  q1 = df[field].quantile(0.25)\n",
        "  q3 = df[field].quantile(0.75)\n",
        "  iqr = q3-q1\n",
        "  lower_tail = q1 - iqr*1.5\n",
        "  upper_tail = q3 + iqr*1.5\n",
        "\n",
        "  df = df[(df[field]>=lower_tail)&(df[field]<=upper_tail)]\n",
        "  \n",
        "  return df\n",
        "\n",
        "rfm_df_new = remove_outliers(rfm_df,'Recency')\n",
        "rfm_df_new = remove_outliers(rfm_df,'Frequency')\n",
        "rfm_df_new = remove_outliers(rfm_df,'Monetary')"
      ],
      "execution_count": null,
      "outputs": []
    },
    {
      "cell_type": "code",
      "metadata": {
        "colab": {
          "base_uri": "https://localhost:8080/",
          "height": 294
        },
        "id": "BZwn72jGwS7d",
        "outputId": "ab9059ea-e0a0-4f3e-c34b-6e6975fc63ee"
      },
      "source": [
        "# descriptive statistics regarding our current rfm dataframe\n",
        "display(rfm_df_new.describe())"
      ],
      "execution_count": null,
      "outputs": [
        {
          "output_type": "display_data",
          "data": {
            "text/html": [
              "<div>\n",
              "<style scoped>\n",
              "    .dataframe tbody tr th:only-of-type {\n",
              "        vertical-align: middle;\n",
              "    }\n",
              "\n",
              "    .dataframe tbody tr th {\n",
              "        vertical-align: top;\n",
              "    }\n",
              "\n",
              "    .dataframe thead th {\n",
              "        text-align: right;\n",
              "    }\n",
              "</style>\n",
              "<table border=\"1\" class=\"dataframe\">\n",
              "  <thead>\n",
              "    <tr style=\"text-align: right;\">\n",
              "      <th></th>\n",
              "      <th>Recency</th>\n",
              "      <th>Frequency</th>\n",
              "      <th>Monetary</th>\n",
              "    </tr>\n",
              "  </thead>\n",
              "  <tbody>\n",
              "    <tr>\n",
              "      <th>count</th>\n",
              "      <td>3911.000000</td>\n",
              "      <td>3911.000000</td>\n",
              "      <td>3911.000000</td>\n",
              "    </tr>\n",
              "    <tr>\n",
              "      <th>mean</th>\n",
              "      <td>114.327793</td>\n",
              "      <td>61.517003</td>\n",
              "      <td>886.654537</td>\n",
              "    </tr>\n",
              "    <tr>\n",
              "      <th>std</th>\n",
              "      <td>117.216400</td>\n",
              "      <td>77.311881</td>\n",
              "      <td>828.537759</td>\n",
              "    </tr>\n",
              "    <tr>\n",
              "      <th>min</th>\n",
              "      <td>1.000000</td>\n",
              "      <td>1.000000</td>\n",
              "      <td>3.750000</td>\n",
              "    </tr>\n",
              "    <tr>\n",
              "      <th>25%</th>\n",
              "      <td>26.000000</td>\n",
              "      <td>15.000000</td>\n",
              "      <td>283.510000</td>\n",
              "    </tr>\n",
              "    <tr>\n",
              "      <th>50%</th>\n",
              "      <td>73.000000</td>\n",
              "      <td>35.000000</td>\n",
              "      <td>588.220000</td>\n",
              "    </tr>\n",
              "    <tr>\n",
              "      <th>75%</th>\n",
              "      <td>175.000000</td>\n",
              "      <td>79.000000</td>\n",
              "      <td>1246.210000</td>\n",
              "    </tr>\n",
              "    <tr>\n",
              "      <th>max</th>\n",
              "      <td>698.000000</td>\n",
              "      <td>970.000000</td>\n",
              "      <td>3692.280000</td>\n",
              "    </tr>\n",
              "  </tbody>\n",
              "</table>\n",
              "</div>"
            ],
            "text/plain": [
              "           Recency    Frequency     Monetary\n",
              "count  3911.000000  3911.000000  3911.000000\n",
              "mean    114.327793    61.517003   886.654537\n",
              "std     117.216400    77.311881   828.537759\n",
              "min       1.000000     1.000000     3.750000\n",
              "25%      26.000000    15.000000   283.510000\n",
              "50%      73.000000    35.000000   588.220000\n",
              "75%     175.000000    79.000000  1246.210000\n",
              "max     698.000000   970.000000  3692.280000"
            ]
          },
          "metadata": {
            "tags": []
          }
        }
      ]
    },
    {
      "cell_type": "markdown",
      "metadata": {
        "id": "9Ird8vCfFQnK"
      },
      "source": [
        "The features 'Frequecy' and 'Monetary' have the highest correlation, with a coefficent value of 0.6 approximately."
      ]
    },
    {
      "cell_type": "code",
      "metadata": {
        "colab": {
          "base_uri": "https://localhost:8080/",
          "height": 369
        },
        "id": "12YfD8J3w8yj",
        "outputId": "adf48403-bc1e-4a52-c9d7-06e3df65d8f4"
      },
      "source": [
        "# correlation heat map between variables #\n",
        "sns.heatmap(rfm_df_new.corr())"
      ],
      "execution_count": null,
      "outputs": [
        {
          "output_type": "execute_result",
          "data": {
            "text/plain": [
              "<matplotlib.axes._subplots.AxesSubplot at 0x7fd14b8f0910>"
            ]
          },
          "metadata": {
            "tags": []
          },
          "execution_count": 219
        },
        {
          "output_type": "display_data",
          "data": {
            "image/png": "[encoded data removed]",
            "text/plain": [
              "<Figure size 576x396 with 2 Axes>"
            ]
          },
          "metadata": {
            "tags": []
          }
        }
      ]
    },
    {
      "cell_type": "markdown",
      "metadata": {
        "id": "GW5Tl2kBZ1ns"
      },
      "source": [
        "All the features have different ranges, K-means is a distance based algorithm, normalising the ranges will help reduce the bias."
      ]
    },
    {
      "cell_type": "code",
      "metadata": {
        "colab": {
          "base_uri": "https://localhost:8080/",
          "height": 294
        },
        "id": "OPngKyjhkhcb",
        "outputId": "647d80bc-ddc4-4200-de87-08907ef9dff9"
      },
      "source": [
        "scaler = MinMaxScaler()\n",
        "rfm_normalised = pd.DataFrame(scaler.fit_transform(rfm_df_new))\n",
        "rfm_normalised.columns = ['n_Recency','n_Frequency','n_Monetary']\n",
        "rfm_normalised.describe()"
      ],
      "execution_count": null,
      "outputs": [
        {
          "output_type": "execute_result",
          "data": {
            "text/html": [
              "<div>\n",
              "<style scoped>\n",
              "    .dataframe tbody tr th:only-of-type {\n",
              "        vertical-align: middle;\n",
              "    }\n",
              "\n",
              "    .dataframe tbody tr th {\n",
              "        vertical-align: top;\n",
              "    }\n",
              "\n",
              "    .dataframe thead th {\n",
              "        text-align: right;\n",
              "    }\n",
              "</style>\n",
              "<table border=\"1\" class=\"dataframe\">\n",
              "  <thead>\n",
              "    <tr style=\"text-align: right;\">\n",
              "      <th></th>\n",
              "      <th>n_Recency</th>\n",
              "      <th>n_Frequency</th>\n",
              "      <th>n_Monetary</th>\n",
              "    </tr>\n",
              "  </thead>\n",
              "  <tbody>\n",
              "    <tr>\n",
              "      <th>count</th>\n",
              "      <td>3911.000000</td>\n",
              "      <td>3911.000000</td>\n",
              "      <td>3911.000000</td>\n",
              "    </tr>\n",
              "    <tr>\n",
              "      <th>mean</th>\n",
              "      <td>0.162594</td>\n",
              "      <td>0.062453</td>\n",
              "      <td>0.239365</td>\n",
              "    </tr>\n",
              "    <tr>\n",
              "      <th>std</th>\n",
              "      <td>0.168173</td>\n",
              "      <td>0.079785</td>\n",
              "      <td>0.224625</td>\n",
              "    </tr>\n",
              "    <tr>\n",
              "      <th>min</th>\n",
              "      <td>0.000000</td>\n",
              "      <td>0.000000</td>\n",
              "      <td>0.000000</td>\n",
              "    </tr>\n",
              "    <tr>\n",
              "      <th>25%</th>\n",
              "      <td>0.035868</td>\n",
              "      <td>0.014448</td>\n",
              "      <td>0.075846</td>\n",
              "    </tr>\n",
              "    <tr>\n",
              "      <th>50%</th>\n",
              "      <td>0.103300</td>\n",
              "      <td>0.035088</td>\n",
              "      <td>0.158456</td>\n",
              "    </tr>\n",
              "    <tr>\n",
              "      <th>75%</th>\n",
              "      <td>0.249641</td>\n",
              "      <td>0.080495</td>\n",
              "      <td>0.336844</td>\n",
              "    </tr>\n",
              "    <tr>\n",
              "      <th>max</th>\n",
              "      <td>1.000000</td>\n",
              "      <td>1.000000</td>\n",
              "      <td>1.000000</td>\n",
              "    </tr>\n",
              "  </tbody>\n",
              "</table>\n",
              "</div>"
            ],
            "text/plain": [
              "         n_Recency  n_Frequency   n_Monetary\n",
              "count  3911.000000  3911.000000  3911.000000\n",
              "mean      0.162594     0.062453     0.239365\n",
              "std       0.168173     0.079785     0.224625\n",
              "min       0.000000     0.000000     0.000000\n",
              "25%       0.035868     0.014448     0.075846\n",
              "50%       0.103300     0.035088     0.158456\n",
              "75%       0.249641     0.080495     0.336844\n",
              "max       1.000000     1.000000     1.000000"
            ]
          },
          "metadata": {
            "tags": []
          },
          "execution_count": 220
        }
      ]
    },
    {
      "cell_type": "markdown",
      "metadata": {
        "id": "GJ6xZC9rm0gL"
      },
      "source": [
        "segmenting with K-means, now we have to find the optimal amount of clusters to use.\n",
        "\n",
        "After viewing the inertia cluster plot and the average silhouette, I have the chosen the K=5 to be the most optimal value. "
      ]
    },
    {
      "cell_type": "code",
      "metadata": {
        "colab": {
          "base_uri": "https://localhost:8080/",
          "height": 521
        },
        "id": "22jHy-bzlkUp",
        "outputId": "0be1fecd-3d2d-4a50-b606-9aed5e80ecc9"
      },
      "source": [
        "SSE = []\n",
        "\n",
        "for k in range(1,10):\n",
        "  kmeans = KMeans(n_clusters=k+1, random_state=1231).fit(rfm_normalised)\n",
        "  SSE.append(kmeans.inertia_)\n",
        "\n",
        "  cluster_labels = kmeans.labels_\n",
        "  \n",
        "\n",
        "  silhouette_avg = silhouette_score(rfm_normalised,cluster_labels)\n",
        "\n",
        "  print('For n_clusters={0}, the silhoeutte score is {1}'.format(k+1,silhouette_avg))\n",
        "\n",
        "sns.pointplot(x=list(range(2,11)),y=SSE)"
      ],
      "execution_count": null,
      "outputs": [
        {
          "output_type": "stream",
          "text": [
            "For n_clusters=2, the silhoeutte score is 0.5042501132412703\n",
            "For n_clusters=3, the silhoeutte score is 0.4529213525250815\n",
            "For n_clusters=4, the silhoeutte score is 0.42171302224600826\n",
            "For n_clusters=5, the silhoeutte score is 0.43619938659293367\n",
            "For n_clusters=6, the silhoeutte score is 0.39311340127944405\n",
            "For n_clusters=7, the silhoeutte score is 0.3691418660359402\n",
            "For n_clusters=8, the silhoeutte score is 0.3725745540111849\n",
            "For n_clusters=9, the silhoeutte score is 0.3826552231747054\n",
            "For n_clusters=10, the silhoeutte score is 0.36655944194168205\n"
          ],
          "name": "stdout"
        },
        {
          "output_type": "execute_result",
          "data": {
            "text/plain": [
              "<matplotlib.axes._subplots.AxesSubplot at 0x7fd14dd78f10>"
            ]
          },
          "metadata": {
            "tags": []
          },
          "execution_count": 221
        },
        {
          "output_type": "display_data",
          "data": {
            "image/png": "[encoded data removed]",
            "text/plain": [
              "<Figure size 576x396 with 1 Axes>"
            ]
          },
          "metadata": {
            "tags": []
          }
        }
      ]
    },
    {
      "cell_type": "code",
      "metadata": {
        "colab": {
          "base_uri": "https://localhost:8080/",
          "height": 681
        },
        "id": "1zWVxVxnLAwx",
        "outputId": "a0aad203-596a-41a4-b9e7-4b3f1ab04a44"
      },
      "source": [
        "\n",
        "fig, axes = plt.subplots(figsize=(10,10))\n",
        "visual = SilhouetteVisualizer(KMeans(5,random_state=42),ax=axes,colors='yellowbrick')\n",
        "visual.fit(rfm_normalised)"
      ],
      "execution_count": null,
      "outputs": [
        {
          "output_type": "stream",
          "text": [
            "/usr/local/lib/python3.7/dist-packages/sklearn/base.py:197: FutureWarning: From version 0.24, get_params will raise an AttributeError if a parameter cannot be retrieved as an instance attribute. Previously it would return None.\n",
            "  FutureWarning)\n"
          ],
          "name": "stderr"
        },
        {
          "output_type": "execute_result",
          "data": {
            "text/plain": [
              "SilhouetteVisualizer(ax=<matplotlib.axes._subplots.AxesSubplot object at 0x7fd14b8b9cd0>,\n",
              "                     model=None)"
            ]
          },
          "metadata": {
            "tags": []
          },
          "execution_count": 222
        },
        {
          "output_type": "display_data",
          "data": {
            "image/png": "[encoded data removed]",
            "text/plain": [
              "<Figure size 720x720 with 1 Axes>"
            ]
          },
          "metadata": {
            "tags": []
          }
        }
      ]
    },
    {
      "cell_type": "code",
      "metadata": {
        "id": "XwdeTc9CNvP5",
        "colab": {
          "base_uri": "https://localhost:8080/",
          "height": 365
        },
        "outputId": "41365fbd-1826-4dfa-85ac-bfbef08e3763"
      },
      "source": [
        "model = KMeans(n_clusters=5,random_state=1231).fit(rfm_normalised)\n",
        "centers = model.cluster_centers_\n",
        "print(centers[:,2])\n",
        "fig = plt.figure()\n",
        "ax = fig.add_subplot(111,projection='3d')\n",
        "ax.scatter(rfm_normalised['n_Recency'],rfm_normalised['n_Frequency'],rfm_normalised['n_Monetary'],cmap='brg',c=model.predict(rfm_normalised))\n",
        "ax.scatter(centers[:,0], centers[:,1],centers[:,2],s=10,c='black')\n",
        "ax.set_xlabel(\"Recency\")\n",
        "\n",
        "ax.set_ylabel(\"Frequency\")\n",
        "\n",
        "ax.set_zlabel(\"Monetary\")"
      ],
      "execution_count": null,
      "outputs": [
        {
          "output_type": "stream",
          "text": [
            "[0.12025613 0.74814573 0.0747247  0.10021344 0.38746771]\n"
          ],
          "name": "stdout"
        },
        {
          "output_type": "execute_result",
          "data": {
            "text/plain": [
              "Text(0.5, 0, 'Monetary')"
            ]
          },
          "metadata": {
            "tags": []
          },
          "execution_count": 223
        },
        {
          "output_type": "display_data",
          "data": {
            "image/png": "[encoded data removed]",
            "text/plain": [
              "<Figure size 576x396 with 1 Axes>"
            ]
          },
          "metadata": {
            "tags": []
          }
        }
      ]
    },
    {
      "cell_type": "markdown",
      "metadata": {
        "id": "Gi6IWpVDfrKF"
      },
      "source": [
        "After segementing the data, customers in cluster 1, have shown to be high value customers due to the high frequency, high monetary, and low recency values they have shown."
      ]
    },
    {
      "cell_type": "code",
      "metadata": {
        "colab": {
          "base_uri": "https://localhost:8080/",
          "height": 433
        },
        "id": "TYOcUCxNV1Fm",
        "outputId": "6d4a76c5-add8-4862-8fec-fb98c981d55f"
      },
      "source": [
        "rfm_ = pd.DataFrame(scaler.inverse_transform(rfm_normalised))\n",
        "rfm_.columns = rfm_df_new.columns\n",
        "rfm_['CustomerID'] = rfm_df_new.index\n",
        "rfm_['Cluster'] =  model.labels_\n",
        "\n",
        "melted_rfm_ = pd.melt(rfm_.reset_index(),\n",
        "                                id_vars=['CustomerID','Cluster'],\n",
        "                                value_vars=['Recency','Frequency','Monetary'],\n",
        "                                var_name='Features',\n",
        "                                value_name='Value')\n",
        "\n",
        "\n",
        "sns.lineplot('Features','Value',hue='Cluster',data= melted_rfm_)\n",
        "plt.legend(title='Clusters')\n"
      ],
      "execution_count": null,
      "outputs": [
        {
          "output_type": "stream",
          "text": [
            "/usr/local/lib/python3.7/dist-packages/seaborn/_decorators.py:43: FutureWarning: Pass the following variables as keyword args: x, y. From version 0.12, the only valid positional argument will be `data`, and passing other arguments without an explicit keyword will result in an error or misinterpretation.\n",
            "  FutureWarning\n"
          ],
          "name": "stderr"
        },
        {
          "output_type": "execute_result",
          "data": {
            "text/plain": [
              "<matplotlib.legend.Legend at 0x7fd14be5e310>"
            ]
          },
          "metadata": {
            "tags": []
          },
          "execution_count": 224
        },
        {
          "output_type": "display_data",
          "data": {
            "image/png": "[encoded data removed]",
            "text/plain": [
              "<Figure size 576x396 with 1 Axes>"
            ]
          },
          "metadata": {
            "tags": []
          }
        }
      ]
    },
    {
      "cell_type": "code",
      "metadata": {
        "colab": {
          "base_uri": "https://localhost:8080/",
          "height": 263
        },
        "id": "f1jeGdvcqaIE",
        "outputId": "1a6264de-3713-4cf0-9c6f-5b643dc52e99"
      },
      "source": [
        "rfm_.groupby('Cluster').agg({'Recency':['mean','min','max'],\n",
        "                             'Frequency':['mean','min','max'],\n",
        "                             'Monetary':['mean','min','max','count']})"
      ],
      "execution_count": null,
      "outputs": [
        {
          "output_type": "execute_result",
          "data": {
            "text/html": [
              "<div>\n",
              "<style scoped>\n",
              "    .dataframe tbody tr th:only-of-type {\n",
              "        vertical-align: middle;\n",
              "    }\n",
              "\n",
              "    .dataframe tbody tr th {\n",
              "        vertical-align: top;\n",
              "    }\n",
              "\n",
              "    .dataframe thead tr th {\n",
              "        text-align: left;\n",
              "    }\n",
              "\n",
              "    .dataframe thead tr:last-of-type th {\n",
              "        text-align: right;\n",
              "    }\n",
              "</style>\n",
              "<table border=\"1\" class=\"dataframe\">\n",
              "  <thead>\n",
              "    <tr>\n",
              "      <th></th>\n",
              "      <th colspan=\"3\" halign=\"left\">Recency</th>\n",
              "      <th colspan=\"3\" halign=\"left\">Frequency</th>\n",
              "      <th colspan=\"4\" halign=\"left\">Monetary</th>\n",
              "    </tr>\n",
              "    <tr>\n",
              "      <th></th>\n",
              "      <th>mean</th>\n",
              "      <th>min</th>\n",
              "      <th>max</th>\n",
              "      <th>mean</th>\n",
              "      <th>min</th>\n",
              "      <th>max</th>\n",
              "      <th>mean</th>\n",
              "      <th>min</th>\n",
              "      <th>max</th>\n",
              "      <th>count</th>\n",
              "    </tr>\n",
              "    <tr>\n",
              "      <th>Cluster</th>\n",
              "      <th></th>\n",
              "      <th></th>\n",
              "      <th></th>\n",
              "      <th></th>\n",
              "      <th></th>\n",
              "      <th></th>\n",
              "      <th></th>\n",
              "      <th></th>\n",
              "      <th></th>\n",
              "      <th></th>\n",
              "    </tr>\n",
              "  </thead>\n",
              "  <tbody>\n",
              "    <tr>\n",
              "      <th>0</th>\n",
              "      <td>57.904057</td>\n",
              "      <td>1.0</td>\n",
              "      <td>154.0</td>\n",
              "      <td>36.385705</td>\n",
              "      <td>1.0</td>\n",
              "      <td>229.0</td>\n",
              "      <td>447.319847</td>\n",
              "      <td>6.90</td>\n",
              "      <td>974.54</td>\n",
              "      <td>1553</td>\n",
              "    </tr>\n",
              "    <tr>\n",
              "      <th>1</th>\n",
              "      <td>49.523697</td>\n",
              "      <td>1.0</td>\n",
              "      <td>321.0</td>\n",
              "      <td>179.073460</td>\n",
              "      <td>1.0</td>\n",
              "      <td>970.0</td>\n",
              "      <td>2760.304339</td>\n",
              "      <td>1908.25</td>\n",
              "      <td>3692.28</td>\n",
              "      <td>422</td>\n",
              "    </tr>\n",
              "    <tr>\n",
              "      <th>2</th>\n",
              "      <td>582.886076</td>\n",
              "      <td>425.0</td>\n",
              "      <td>698.0</td>\n",
              "      <td>20.493671</td>\n",
              "      <td>1.0</td>\n",
              "      <td>105.0</td>\n",
              "      <td>279.374304</td>\n",
              "      <td>15.00</td>\n",
              "      <td>2002.40</td>\n",
              "      <td>79</td>\n",
              "    </tr>\n",
              "    <tr>\n",
              "      <th>3</th>\n",
              "      <td>241.410661</td>\n",
              "      <td>145.0</td>\n",
              "      <td>364.0</td>\n",
              "      <td>26.753208</td>\n",
              "      <td>1.0</td>\n",
              "      <td>238.0</td>\n",
              "      <td>373.242034</td>\n",
              "      <td>3.75</td>\n",
              "      <td>1693.88</td>\n",
              "      <td>1013</td>\n",
              "    </tr>\n",
              "    <tr>\n",
              "      <th>4</th>\n",
              "      <td>54.164692</td>\n",
              "      <td>1.0</td>\n",
              "      <td>299.0</td>\n",
              "      <td>94.546209</td>\n",
              "      <td>1.0</td>\n",
              "      <td>547.0</td>\n",
              "      <td>1431.285533</td>\n",
              "      <td>867.11</td>\n",
              "      <td>2207.40</td>\n",
              "      <td>844</td>\n",
              "    </tr>\n",
              "  </tbody>\n",
              "</table>\n",
              "</div>"
            ],
            "text/plain": [
              "            Recency                ... Monetary               \n",
              "               mean    min    max  ...      min      max count\n",
              "Cluster                            ...                        \n",
              "0         57.904057    1.0  154.0  ...     6.90   974.54  1553\n",
              "1         49.523697    1.0  321.0  ...  1908.25  3692.28   422\n",
              "2        582.886076  425.0  698.0  ...    15.00  2002.40    79\n",
              "3        241.410661  145.0  364.0  ...     3.75  1693.88  1013\n",
              "4         54.164692    1.0  299.0  ...   867.11  2207.40   844\n",
              "\n",
              "[5 rows x 10 columns]"
            ]
          },
          "metadata": {
            "tags": []
          },
          "execution_count": 225
        }
      ]
    },
    {
      "cell_type": "code",
      "metadata": {
        "id": "pXgo3D8KK3Tc"
      },
      "source": [
        ""
      ],
      "execution_count": null,
      "outputs": []
    }
  ]
}